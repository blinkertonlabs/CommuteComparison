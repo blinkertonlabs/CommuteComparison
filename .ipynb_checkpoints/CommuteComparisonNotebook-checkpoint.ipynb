{
 "cells": [
  {
   "cell_type": "markdown",
   "id": "21cff09a",
   "metadata": {},
   "source": [
    "# Commute Comparison Notebook\n",
    "Compare the commutes between several different jobs\n",
    "\n",
    "Blinkerton Labs"
   ]
  },
  {
   "cell_type": "markdown",
   "id": "0607812e",
   "metadata": {},
   "source": [
    "## Establish the Commute Class"
   ]
  },
  {
   "cell_type": "code",
   "execution_count": 3,
   "id": "c0e297d7",
   "metadata": {},
   "outputs": [],
   "source": [
    "class Commute:\n",
    "    def __init__(self, \n",
    "           commuteName,\n",
    "           oneWayTripMiles,\n",
    "           oneWayTripTimeMinutes,\n",
    "           carFuelEconomyMPG,\n",
    "           gasCostPerGallon,\n",
    "           tripsPerWeek):\n",
    "        self.commuteName = commuteName\n",
    "        self.oneWayTripMiles = oneWayTripMiles\n",
    "        self.oneWatTripTimeMinutes = oneWayTripTimeMinutes\n",
    "        self.carFuelEconomyMPG = carFuelEconomyMPG\n",
    "        self.gasCostPerGallon = gasCostPerGallon\n",
    "        self.tripsPerWeek = tripsPerWeek\n",
    "    \n",
    "        #   Other parameters that are calculated automatically\n",
    "        self.costPerTrip = ((self.oneWayTripMiles * 2) / self.carFuelEconomyMPG) * self.gasCostPerGallon\n",
    "        \n",
    "        #   Weekly totals\n",
    "        self.totalCostPerWeek = self.costPerTrip * self.tripsPerWeek\n",
    "        self.totalMilesPerWeek = (self.oneWayTripMiles * 2) * self.tripsPerWeek\n",
    "        self.totalTimePerWeekHours = ((self.oneWatTripTimeMinutes * 2) / 60) * self.tripsPerWeek\n",
    "\n",
    "        #   Annual Totals\n",
    "        self.totalCostPerYear = 52 * self.totalCostPerWeek\n",
    "        self.totalMilesPerYear = 52 * self.totalMilesPerWeek\n",
    "        self.totalTimePerYearDays = (52 * self.totalTimePerWeekHours) / 24\n",
    "\n",
    "    def __str__(self):\n",
    "        returnString = self.commuteName + '\\n'\n",
    "        returnString += 'Total hours per week: {0:.2f} '.format(self.totalTimePerWeekHours) + '\\n'\n",
    "        returnString += 'Total Cost per day: ${0:.2f} '.format(self.totalCostPerWeek/7) + '\\n'\n",
    "        returnString +='Total Cost per month: ${0:.2f} '.format(self.totalCostPerWeek*4) + '\\n'\n",
    "        return returnString"
   ]
  },
  {
   "cell_type": "markdown",
   "id": "70e46b43",
   "metadata": {},
   "source": [
    "## Setup the constants for the commute comparison "
   ]
  },
  {
   "cell_type": "code",
   "execution_count": 2,
   "id": "06d56736",
   "metadata": {},
   "outputs": [],
   "source": [
    "# Fuel economies of different cars\n",
    "carFunFuelEconomy = 22\n",
    "carEfficientFuelEconomy = 34\n",
    "\n",
    "# Cost of gas\n",
    "costOfRegular = 3.75\n",
    "costOfPremium = 4.00"
   ]
  },
  {
   "cell_type": "code",
   "execution_count": null,
   "id": "106d5fbc",
   "metadata": {},
   "outputs": [],
   "source": []
  }
 ],
 "metadata": {
  "kernelspec": {
   "display_name": "Python 3 (ipykernel)",
   "language": "python",
   "name": "python3"
  },
  "language_info": {
   "codemirror_mode": {
    "name": "ipython",
    "version": 3
   },
   "file_extension": ".py",
   "mimetype": "text/x-python",
   "name": "python",
   "nbconvert_exporter": "python",
   "pygments_lexer": "ipython3",
   "version": "3.11.4"
  }
 },
 "nbformat": 4,
 "nbformat_minor": 5
}
