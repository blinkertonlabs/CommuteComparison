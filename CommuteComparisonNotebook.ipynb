{
 "cells": [
  {
   "cell_type": "markdown",
   "id": "1d3b5709",
   "metadata": {},
   "source": [
    "# Commute Comparison Notebook\n",
    "Compare the commutes between several different jobs\n",
    "\n",
    "Blinkerton Labs"
   ]
  },
  {
   "cell_type": "code",
   "execution_count": 12,
   "id": "33a48819",
   "metadata": {},
   "outputs": [],
   "source": [
    "# Establish Imports\n",
    "import copy"
   ]
  },
  {
   "cell_type": "markdown",
   "id": "bb00141b",
   "metadata": {},
   "source": [
    "## Establish the Commute Class"
   ]
  },
  {
   "cell_type": "code",
   "execution_count": 13,
   "id": "fa7bc103",
   "metadata": {},
   "outputs": [],
   "source": [
    "class Commute:\n",
    "    def __init__(self, \n",
    "           commuteName,\n",
    "           oneWayTripMiles,\n",
    "           oneWayTripTimeMinutes,\n",
    "           carFuelEconomyMPG,\n",
    "           gasCostPerGallon,\n",
    "           tripsPerWeek):\n",
    "        self.commuteName = commuteName\n",
    "        self.oneWayTripMiles = oneWayTripMiles\n",
    "        self.oneWatTripTimeMinutes = oneWayTripTimeMinutes\n",
    "        self.carFuelEconomyMPG = carFuelEconomyMPG\n",
    "        self.gasCostPerGallon = gasCostPerGallon\n",
    "        self.tripsPerWeek = tripsPerWeek\n",
    "        \n",
    "        self.updateData()\n",
    "        \n",
    "\n",
    "\n",
    "    def updateData(self):\n",
    "        # Calculated variables\n",
    "        self.roundTripMiles = self.oneWayTripMiles * 2\n",
    "        self.roundTripMinutes = self.oneWatTripTimeMinutes * 2\n",
    "        self.roundTripHours = (self.roundTripMinutes) / 60\n",
    "    \n",
    "        #   Other parameters that are calculated automatically\n",
    "        self.costPerTrip = ((self.roundTripMiles) / self.carFuelEconomyMPG) * self.gasCostPerGallon\n",
    "        \n",
    "        #   Weekly totals\n",
    "        self.totalCostPerWeek = self.costPerTrip * self.tripsPerWeek\n",
    "        self.totalMilesPerWeek = self.roundTripMiles * self.tripsPerWeek\n",
    "        self.totalTimePerWeekHours = self.roundTripHours * self.tripsPerWeek\n",
    "        \n",
    "        #   Annual Totals\n",
    "        self.totalCostPerYear = 52 * self.totalCostPerWeek\n",
    "        self.totalMilesPerYear = 52 * self.totalMilesPerWeek\n",
    "        self.totalTimePerYearDays = (52 * self.totalTimePerWeekHours) / 24\n",
    "            \n",
    "        #   Monthly totals\n",
    "        self.totalCostPerMonth = self.totalCostPerYear / 12\n",
    "        self.totalMilesPerMonth = self.totalMilesPerYear / 12\n",
    "        self.totalTimePerMonthHours = (52 * self.totalTimePerWeekHours) / 12\n",
    "        \n",
    "\n",
    "    def __str__(self):\n",
    "        returnString = self.commuteName + '\\n'\n",
    "        returnString += 'Trips per week: {0} '.format(self.tripsPerWeek) + '\\n'\n",
    "        returnString += 'Total commute hours per week: {0:.2f} '.format(self.totalTimePerWeekHours) + '\\n'\n",
    "        returnString += 'Total Cost per trip: ${0:.2f} '.format(self.costPerTrip) + '\\n'\n",
    "        returnString +='Total Cost per month: ${0:.2f} '.format(self.totalCostPerMonth) + '\\n'\n",
    "        return returnString"
   ]
  },
  {
   "cell_type": "markdown",
   "id": "435943fe",
   "metadata": {},
   "source": [
    "## Setup the constants for the commute comparison "
   ]
  },
  {
   "cell_type": "code",
   "execution_count": 14,
   "id": "a6d91032",
   "metadata": {},
   "outputs": [],
   "source": [
    "# Fuel economies of different cars\n",
    "carFunFuelEconomy = 22\n",
    "carEfficientFuelEconomy = 34\n",
    "\n",
    "# Cost of gas\n",
    "costOfRegular = 3.75\n",
    "costOfPremium = 4.00\n",
    "\n",
    "# Commute Distances\n",
    "commuteNearOneWayTripMiles = 20\n",
    "commuteFarOneWayTripMiles = 44\n",
    "\n",
    "# Commute Travel Times\n",
    "commuteNearOneWayTripMinutes = 21\n",
    "commuteFarOneWayTripMinutes = 45"
   ]
  },
  {
   "cell_type": "markdown",
   "id": "63210e49",
   "metadata": {},
   "source": [
    "## Define the commute scenarios"
   ]
  },
  {
   "cell_type": "markdown",
   "id": "96ba607f",
   "metadata": {},
   "source": [
    "### Baseline Commute"
   ]
  },
  {
   "cell_type": "code",
   "execution_count": 16,
   "id": "07a45bb0",
   "metadata": {},
   "outputs": [
    {
     "name": "stdout",
     "output_type": "stream",
     "text": [
      "Baseline Close Commute - 1 Day\n",
      "Trips per week: 1 \n",
      "Total commute hours per week: 0.70 \n",
      "Total Cost per trip: $7.27 \n",
      "Total Cost per month: $31.52 \n",
      "\n",
      "Baseline Close Commute - 3 Day\n",
      "Trips per week: 3 \n",
      "Total commute hours per week: 2.10 \n",
      "Total Cost per trip: $7.27 \n",
      "Total Cost per month: $94.55 \n",
      "\n",
      "Baseline Close Commute - 5 Day\n",
      "Trips per week: 5 \n",
      "Total commute hours per week: 3.50 \n",
      "Total Cost per trip: $7.27 \n",
      "Total Cost per month: $157.58 \n",
      "\n"
     ]
    }
   ],
   "source": [
    "#   Create the commute scenarios\n",
    "baseLine = Commute(commuteName= 'Baseline Close Commute - 1 Day', \n",
    "                oneWayTripMiles= commuteNearOneWayTripMiles, \n",
    "                oneWayTripTimeMinutes= commuteNearOneWayTripMinutes, \n",
    "                carFuelEconomyMPG= carFunFuelEconomy, \n",
    "                gasCostPerGallon= costOfPremium, \n",
    "                tripsPerWeek= 1)\n",
    "\n",
    "print(baseLine)\n",
    "\n",
    "# If the baseline commute changes to 3 days per week\n",
    "baseLine_3Day = copy.copy(baseLine)\n",
    "baseLine_3Day.commuteName = 'Baseline Close Commute - 3 Day'\n",
    "baseLine_3Day.tripsPerWeek = 3\n",
    "baseLine_3Day.updateData()\n",
    "\n",
    "print(baseLine_3Day)\n",
    "\n",
    "\n",
    "# If the baseline commute changes to 5 days per week\n",
    "baseLine_5Day = copy.copy(baseLine)\n",
    "baseLine_5Day.commuteName = 'Baseline Close Commute - 5 Day'\n",
    "baseLine_5Day.tripsPerWeek = 5\n",
    "baseLine_5Day.updateData()\n",
    "\n",
    "print(baseLine_5Day)"
   ]
  },
  {
   "cell_type": "code",
   "execution_count": 4,
   "id": "ea1ffa3a",
   "metadata": {},
   "outputs": [
    {
     "name": "stdout",
     "output_type": "stream",
     "text": [
      "3.5\n"
     ]
    }
   ],
   "source": [
    "print(baseLine.totalTimePerWeekHours)"
   ]
  },
  {
   "cell_type": "markdown",
   "id": "1fb62e30",
   "metadata": {},
   "source": [
    "### Far Commute - Fast Car "
   ]
  },
  {
   "cell_type": "code",
   "execution_count": 17,
   "id": "c7dfd6d0",
   "metadata": {},
   "outputs": [
    {
     "name": "stdout",
     "output_type": "stream",
     "text": [
      "Far - Fast Car - 1 Day\n",
      "Trips per week: 1 \n",
      "Total commute hours per week: 1.50 \n",
      "Total Cost per trip: $16.00 \n",
      "Total Cost per month: $69.33 \n",
      "\n",
      "Far - Fast Car - 3 Days\n",
      "Trips per week: 3 \n",
      "Total commute hours per week: 4.50 \n",
      "Total Cost per trip: $16.00 \n",
      "Total Cost per month: $208.00 \n",
      "\n",
      "Far - Fast Car - 5 Days\n",
      "Trips per week: 5 \n",
      "Total commute hours per week: 7.50 \n",
      "Total Cost per trip: $16.00 \n",
      "Total Cost per month: $346.67 \n",
      "\n"
     ]
    }
   ],
   "source": [
    "# 1 Day per week\n",
    "farCommuteFastCar_1Day = Commute(commuteName= 'Far - Fast Car - 1 Day', \n",
    "                                    oneWayTripMiles= commuteFarOneWayTripMiles, \n",
    "                                    oneWayTripTimeMinutes= commuteFarOneWayTripMinutes, \n",
    "                                    carFuelEconomyMPG= carFunFuelEconomy, \n",
    "                                    gasCostPerGallon= costOfPremium, \n",
    "                                    tripsPerWeek= 1)\n",
    "\n",
    "print(farCommuteFastCar_1Day)\n",
    "\n",
    "\n",
    "# 3 Days per week\n",
    "farCommuteFastCar_3Days = copy.copy(farCommuteFastCar_1Day)\n",
    "farCommuteFastCar_3Days.commuteName = 'Far - Fast Car - 3 Days'\n",
    "farCommuteFastCar_3Days.tripsPerWeek = 3\n",
    "farCommuteFastCar_3Days.updateData()\n",
    "\n",
    "print(farCommuteFastCar_3Days)\n",
    "\n",
    "\n",
    "\n",
    "# 5 Days per week\n",
    "farCommuteFastCar_5Days = copy.copy(farCommuteFastCar_1Day)\n",
    "farCommuteFastCar_5Days.commuteName = 'Far - Fast Car - 5 Days'\n",
    "farCommuteFastCar_5Days.tripsPerWeek = 5\n",
    "farCommuteFastCar_5Days.updateData()\n",
    "\n",
    "print(farCommuteFastCar_5Days)"
   ]
  },
  {
   "cell_type": "markdown",
   "id": "d3232f3f",
   "metadata": {},
   "source": [
    "### Far Commute - Fuel Efficient Car"
   ]
  },
  {
   "cell_type": "code",
   "execution_count": 18,
   "id": "1b54c8ed",
   "metadata": {},
   "outputs": [
    {
     "name": "stdout",
     "output_type": "stream",
     "text": [
      "0.7\n"
     ]
    }
   ],
   "source": [
    "print(baseLine.totalTimePerWeekHours)"
   ]
  },
  {
   "cell_type": "code",
   "execution_count": 19,
   "id": "fe48af4c",
   "metadata": {},
   "outputs": [
    {
     "name": "stdout",
     "output_type": "stream",
     "text": [
      "Far - Hybrid - 1 Days\n",
      "Trips per week: 1 \n",
      "Total commute hours per week: 1.50 \n",
      "Total Cost per trip: $9.71 \n",
      "Total Cost per month: $42.06 \n",
      "\n",
      "Far - Hybrid - 3 Days\n",
      "Trips per week: 3 \n",
      "Total commute hours per week: 4.50 \n",
      "Total Cost per trip: $9.71 \n",
      "Total Cost per month: $126.18 \n",
      "\n",
      "Far - Hybrid - 5 Days\n",
      "Trips per week: 5 \n",
      "Total commute hours per week: 7.50 \n",
      "Total Cost per trip: $9.71 \n",
      "Total Cost per month: $210.29 \n",
      "\n"
     ]
    }
   ],
   "source": [
    "# 1 Day per week\n",
    "far_EfficientCar_1Day = Commute(commuteName= 'Far - Hybrid - 1 Days', \n",
    "                                            oneWayTripMiles= commuteFarOneWayTripMiles, \n",
    "                                            oneWayTripTimeMinutes= commuteFarOneWayTripMinutes, \n",
    "                                            carFuelEconomyMPG= carEfficientFuelEconomy, \n",
    "                                            gasCostPerGallon= costOfRegular, \n",
    "                                            tripsPerWeek= 1)\n",
    "\n",
    "print(far_EfficientCar_1Day)\n",
    "\n",
    "\n",
    "# 3 Days per week\n",
    "far_EfficientCar_3Days = copy.copy(far_EfficientCar_1Day)\n",
    "far_EfficientCar_3Days.commuteName = 'Far - Hybrid - 3 Days'\n",
    "far_EfficientCar_3Days.tripsPerWeek = 3\n",
    "far_EfficientCar_3Days.updateData()\n",
    "\n",
    "print(far_EfficientCar_3Days)\n",
    "\n",
    "\n",
    "# 5 Days per week\n",
    "far_EfficientCar_5Days = copy.copy(far_EfficientCar_1Day)\n",
    "far_EfficientCar_3Days.commuteName = 'Far - Hybrid - 5 Days'\n",
    "far_EfficientCar_3Days.tripsPerWeek = 5\n",
    "far_EfficientCar_3Days.updateData()\n",
    "\n",
    "print(far_EfficientCar_3Days)"
   ]
  },
  {
   "cell_type": "markdown",
   "id": "8010a752",
   "metadata": {},
   "source": [
    "Worst case scenario is that the commute goes from 1 day per week close to 5 days per week far, keeping the same car."
   ]
  },
  {
   "cell_type": "code",
   "execution_count": 23,
   "id": "3bf9508c",
   "metadata": {},
   "outputs": [
    {
     "name": "stdout",
     "output_type": "stream",
     "text": [
      "Total cost difference per month - Worst Case: $315.15 \n",
      "Total time difference per month - Worst Case: 29.47 \n"
     ]
    }
   ],
   "source": [
    "diffCostPerMonth_WorstCase = farCommuteFastCar_5Days.totalCostPerMonth - baseLine.totalCostPerMonth\n",
    "diffTimePerMont_WorstCase = farCommuteFastCar_5Days.totalTimePerMonthHours - baseLine.totalTimePerMonthHours\n",
    "print('Total cost difference per month - Worst Case: ${0:.2f} '.format(diffCostPerMonth_WorstCase))\n",
    "print('Total time difference per month - Worst Case: {0:.2f} '.format(diffTimePerMont_WorstCase))"
   ]
  },
  {
   "cell_type": "markdown",
   "id": "0e4daede",
   "metadata": {},
   "source": [
    "It is more likely that the far commute will be 3 Days per week."
   ]
  },
  {
   "cell_type": "code",
   "execution_count": 24,
   "id": "2a40e804",
   "metadata": {},
   "outputs": [
    {
     "name": "stdout",
     "output_type": "stream",
     "text": [
      "Total cost difference per month - Worst Case: $176.48 \n",
      "Total time difference per month - Worst Case: 16.47 \n"
     ]
    }
   ],
   "source": [
    "diffCostPerMonth_Likely = farCommuteFastCar_3Days.totalCostPerMonth - baseLine.totalCostPerMonth\n",
    "diffTimePerMont_Likely = farCommuteFastCar_3Days.totalTimePerMonthHours - baseLine.totalTimePerMonthHours\n",
    "print('Total cost difference per month - Worst Case: ${0:.2f} '.format(diffCostPerMonth_Likely))\n",
    "print('Total time difference per month - Worst Case: {0:.2f} '.format(diffTimePerMont_Likely))"
   ]
  }
 ],
 "metadata": {
  "kernelspec": {
   "display_name": "Python 3 (ipykernel)",
   "language": "python",
   "name": "python3"
  },
  "language_info": {
   "codemirror_mode": {
    "name": "ipython",
    "version": 3
   },
   "file_extension": ".py",
   "mimetype": "text/x-python",
   "name": "python",
   "nbconvert_exporter": "python",
   "pygments_lexer": "ipython3",
   "version": "3.11.4"
  },
  "toc-autonumbering": true,
  "toc-showcode": false,
  "toc-showmarkdowntxt": false
 },
 "nbformat": 4,
 "nbformat_minor": 5
}
