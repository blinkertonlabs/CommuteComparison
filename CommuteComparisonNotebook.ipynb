{
 "cells": [
  {
   "cell_type": "markdown",
   "id": "1d3b5709",
   "metadata": {},
   "source": [
    "# Commute Comparison Notebook\n",
    "Compare the commutes between several different jobs\n",
    "\n",
    "Blinkerton Labs"
   ]
  },
  {
   "cell_type": "markdown",
   "id": "bb00141b",
   "metadata": {},
   "source": [
    "## Establish the Commute Class"
   ]
  },
  {
   "cell_type": "code",
   "execution_count": 14,
   "id": "fa7bc103",
   "metadata": {},
   "outputs": [],
   "source": [
    "class Commute:\n",
    "    def __init__(self, \n",
    "           commuteName,\n",
    "           oneWayTripMiles,\n",
    "           oneWayTripTimeMinutes,\n",
    "           carFuelEconomyMPG,\n",
    "           gasCostPerGallon,\n",
    "           tripsPerWeek):\n",
    "        self.commuteName = commuteName\n",
    "        self.oneWayTripMiles = oneWayTripMiles\n",
    "        self.oneWatTripTimeMinutes = oneWayTripTimeMinutes\n",
    "        self.carFuelEconomyMPG = carFuelEconomyMPG\n",
    "        self.gasCostPerGallon = gasCostPerGallon\n",
    "        self.tripsPerWeek = tripsPerWeek\n",
    "    \n",
    "        #   Other parameters that are calculated automatically\n",
    "        self.costPerTrip = ((self.oneWayTripMiles * 2) / self.carFuelEconomyMPG) * self.gasCostPerGallon\n",
    "        \n",
    "        #   Weekly totals\n",
    "        self.totalCostPerWeek = self.costPerTrip * self.tripsPerWeek\n",
    "        self.totalMilesPerWeek = (self.oneWayTripMiles * 2) * self.tripsPerWeek\n",
    "        self.totalTimePerWeekHours = ((self.oneWatTripTimeMinutes * 2) / 60) * self.tripsPerWeek\n",
    "        \n",
    "         #   Monthly totals\n",
    "        self.totalCostPerMonth = self.totalCostPerWeek * 4\n",
    "        self.totalMilesPerMonth = self.totalMilesPerWeek * 4\n",
    "        self.totalTimePerMonthHours = self.totalTimePerWeekHours * 4\n",
    "\n",
    "        #   Annual Totals\n",
    "        self.totalCostPerYear = 52 * self.totalCostPerWeek\n",
    "        self.totalMilesPerYear = 52 * self.totalMilesPerWeek\n",
    "        self.totalTimePerYearDays = (52 * self.totalTimePerWeekHours) / 24\n",
    "\n",
    "    def __str__(self):\n",
    "        returnString = self.commuteName + '\\n'\n",
    "        returnString += 'Total hours per week: {0:.2f} '.format(self.totalTimePerWeekHours) + '\\n'\n",
    "        returnString += 'Total Cost per day: ${0:.2f} '.format(self.totalCostPerWeek/7) + '\\n'\n",
    "        returnString +='Total Cost per month: ${0:.2f} '.format(self.totalCostPerWeek*4) + '\\n'\n",
    "        return returnString"
   ]
  },
  {
   "cell_type": "markdown",
   "id": "435943fe",
   "metadata": {},
   "source": [
    "## Setup the constants for the commute comparison "
   ]
  },
  {
   "cell_type": "code",
   "execution_count": 15,
   "id": "a6d91032",
   "metadata": {},
   "outputs": [],
   "source": [
    "# Fuel economies of different cars\n",
    "carFunFuelEconomy = 22\n",
    "carEfficientFuelEconomy = 34\n",
    "\n",
    "# Cost of gas\n",
    "costOfRegular = 3.75\n",
    "costOfPremium = 4.00"
   ]
  },
  {
   "cell_type": "markdown",
   "id": "63210e49",
   "metadata": {},
   "source": [
    "## Define the commute scenarios"
   ]
  },
  {
   "cell_type": "markdown",
   "id": "96ba607f",
   "metadata": {},
   "source": [
    "### Baseline Commute"
   ]
  },
  {
   "cell_type": "code",
   "execution_count": 16,
   "id": "07a45bb0",
   "metadata": {},
   "outputs": [
    {
     "name": "stdout",
     "output_type": "stream",
     "text": [
      "Baseline Close Commute\n",
      "Total hours per week: 0.70 \n",
      "Total Cost per day: $1.04 \n",
      "Total Cost per month: $29.09 \n",
      "\n"
     ]
    }
   ],
   "source": [
    "#   Create the commute scenarios\n",
    "baseLine = Commute(commuteName= 'Baseline Close Commute', \n",
    "                oneWayTripMiles= 20, \n",
    "                oneWayTripTimeMinutes= 21, \n",
    "                carFuelEconomyMPG= carFunFuelEconomy, \n",
    "                gasCostPerGallon= costOfPremium, \n",
    "                tripsPerWeek= 1)\n",
    "\n",
    "print(baseLine)"
   ]
  },
  {
   "cell_type": "markdown",
   "id": "1fb62e30",
   "metadata": {},
   "source": [
    "### Far Commute - Fast Car - 3 Days per Week"
   ]
  },
  {
   "cell_type": "code",
   "execution_count": 17,
   "id": "c7dfd6d0",
   "metadata": {},
   "outputs": [
    {
     "name": "stdout",
     "output_type": "stream",
     "text": [
      "Far - Fast Car - 3 Days\n",
      "Total hours per week: 4.50 \n",
      "Total Cost per day: $6.86 \n",
      "Total Cost per month: $192.00 \n",
      "\n"
     ]
    }
   ],
   "source": [
    "farCommuteFastCar_3Days = Commute(commuteName= 'Far - Fast Car - 3 Days', \n",
    "                                    oneWayTripMiles= 44, \n",
    "                                    oneWayTripTimeMinutes= 45, \n",
    "                                    carFuelEconomyMPG= carFunFuelEconomy, \n",
    "                                    gasCostPerGallon= costOfPremium, \n",
    "                                    tripsPerWeek= 3)\n",
    "\n",
    "print(farCommuteFastCar_3Days)"
   ]
  },
  {
   "cell_type": "markdown",
   "id": "d3232f3f",
   "metadata": {},
   "source": [
    "### Far Commute - Fuel Efficient Car - 3 Days per Week"
   ]
  },
  {
   "cell_type": "code",
   "execution_count": 18,
   "id": "fe48af4c",
   "metadata": {},
   "outputs": [
    {
     "name": "stdout",
     "output_type": "stream",
     "text": [
      "Far - Hybrid - 3 Days\n",
      "Total hours per week: 4.50 \n",
      "Total Cost per day: $4.16 \n",
      "Total Cost per month: $116.47 \n",
      "\n"
     ]
    }
   ],
   "source": [
    "far_EfficientCar_3Days = Commute(commuteName= 'Far - Hybrid - 3 Days', \n",
    "                                            oneWayTripMiles= 44, \n",
    "                                            oneWayTripTimeMinutes= 45, \n",
    "                                            carFuelEconomyMPG= carEfficientFuelEconomy, \n",
    "                                            gasCostPerGallon= costOfRegular, \n",
    "                                            tripsPerWeek= 3)\n",
    "\n",
    "print(far_EfficientCar_3Days)"
   ]
  },
  {
   "cell_type": "markdown",
   "id": "6911d565",
   "metadata": {},
   "source": [
    "The monthly difference between a fuel efficient car and the fast car is as follows."
   ]
  },
  {
   "cell_type": "code",
   "execution_count": 19,
   "id": "3bf9508c",
   "metadata": {},
   "outputs": [
    {
     "name": "stdout",
     "output_type": "stream",
     "text": [
      "75.52941176470587\n"
     ]
    }
   ],
   "source": [
    "print(farCommuteFastCar_3Days.totalCostPerMonth - far_EfficientCar_3Days.totalCostPerMonth)"
   ]
  },
  {
   "cell_type": "code",
   "execution_count": null,
   "id": "33727447",
   "metadata": {},
   "outputs": [],
   "source": []
  }
 ],
 "metadata": {
  "kernelspec": {
   "display_name": "Python 3 (ipykernel)",
   "language": "python",
   "name": "python3"
  },
  "language_info": {
   "codemirror_mode": {
    "name": "ipython",
    "version": 3
   },
   "file_extension": ".py",
   "mimetype": "text/x-python",
   "name": "python",
   "nbconvert_exporter": "python",
   "pygments_lexer": "ipython3",
   "version": "3.11.4"
  }
 },
 "nbformat": 4,
 "nbformat_minor": 5
}
